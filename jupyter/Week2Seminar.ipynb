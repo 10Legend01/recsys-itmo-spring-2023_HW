{
 "cells": [
  {
   "cell_type": "code",
   "execution_count": null,
   "metadata": {
    "tags": []
   },
   "outputs": [],
   "source": [
    "import json\n",
    "import random\n",
    "from collections import namedtuple\n",
    "\n",
    "import pandas as pd\n",
    "import numpy as np\n",
    "import scipy.stats as ss\n",
    "\n",
    "import matplotlib.pyplot as plt\n",
    "\n",
    "%matplotlib inline"
   ]
  },
  {
   "cell_type": "code",
   "execution_count": null,
   "metadata": {},
   "outputs": [],
   "source": [
    "data = pd.read_json(\"/Users/n.anokhin/Desktop/input.json\", lines=True)\n",
    "data[\"rnd\"] = np.random.random(len(data))\n",
    "\n",
    "data.head()"
   ]
  },
  {
   "cell_type": "markdown",
   "metadata": {},
   "source": [
    "## Compute track popularity"
   ]
  },
  {
   "cell_type": "code",
   "execution_count": null,
   "metadata": {
    "tags": []
   },
   "outputs": [],
   "source": [
    "track_popularity = (\n",
    "    data[data[\"rnd\"] > 0.5]\n",
    "    .groupby(\"track\")[\"time\"]\n",
    "    .sum()\n",
    "    .to_frame()\n",
    "    .sort_values(\"time\", ascending=False)\n",
    "    .reset_index()\n",
    ")\n",
    "\n",
    "track_popularity.head()"
   ]
  },
  {
   "cell_type": "code",
   "execution_count": null,
   "metadata": {},
   "outputs": [],
   "source": [
    "fig, ax = plt.subplots(figsize=(20, 5))\n",
    "\n",
    "ax.plot(track_popularity.index.values, track_popularity[\"time\"].values)\n",
    "\n",
    "ax.set_xscale(\"log\")\n",
    "ax.set_yscale(\"log\")\n",
    "\n",
    "pass"
   ]
  },
  {
   "cell_type": "markdown",
   "metadata": {},
   "source": [
    "## Compute offline metrics"
   ]
  },
  {
   "cell_type": "code",
   "execution_count": null,
   "metadata": {
    "tags": []
   },
   "outputs": [],
   "source": [
    "# recommendations - список рекомендованных track id от лучшего к худшему\n",
    "# track           - id трека, который выбрал пользователь\n",
    "# k               - k в precision@K\n",
    "\n",
    "\n",
    "def precision_at(recommendations, track, k):\n",
    "    return 1.0 / k * int(track in recommendations[:k])\n",
    "\n",
    "\n",
    "    \n",
    "def shuffled_precision_at(recommendations, track, k):\n",
    "    shuffled = list(recommendations)\n",
    "    random.shuffle(shuffled)\n",
    "    return precision_at(shuffled, track, k)\n",
    "\n",
    "\n",
    "def mrr(recommendations, track):\n",
    "    # TODO: implement MRR\n",
    "    return 1.0\n",
    "\n",
    "    \n",
    "def shuffled_mrr(recommendations, track):\n",
    "    shuffled = list(recommendations)\n",
    "    random.shuffle(shuffled)\n",
    "    return mrr(shuffled, track)"
   ]
  },
  {
   "cell_type": "code",
   "execution_count": null,
   "metadata": {
    "tags": []
   },
   "outputs": [],
   "source": [
    "tracks = track_popularity[\"track\"].tolist()\n",
    "\n",
    "t_p_10 = lambda track: precision_at(tracks, track, 10)\n",
    "st_10_p_10 = lambda track: shuffled_precision_at(tracks[:10], track, 10)\n",
    "st_100_p_10 = lambda track: shuffled_precision_at(tracks[:100], track, 10)\n",
    "st_1000_p_10 = lambda track: shuffled_precision_at(tracks[:1000], track, 10)\n",
    "\n",
    "\n",
    "metrics = data[(data[\"rnd\"] <= 0.5) & (data[\"time\"] >= 0.75)].copy()\n",
    "\n",
    "metrics[\"top10_PrecAt10\"] = metrics[\"track\"].map(t_p_10)\n",
    "metrics[\"shuffledTop10_PrecAt10\"] = metrics[\"track\"].map(st_10_p_10)\n",
    "metrics[\"shuffledTop100_PrecAt10\"] = metrics[\"track\"].map(st_100_p_10)\n",
    "metrics[\"shuffledTop1000_PrecAt10\"] = metrics[\"track\"].map(st_1000_p_10)\n",
    "\n",
    "metrics[[\"top10_PrecAt10\", \"shuffledTop10_PrecAt10\", \"shuffledTop100_PrecAt10\", \"shuffledTop1000_PrecAt10\"]].describe()"
   ]
  },
  {
   "cell_type": "code",
   "execution_count": null,
   "metadata": {},
   "outputs": [],
   "source": [
    "tracks = track_popularity[\"track\"].tolist()\n",
    "\n",
    "t_mrr = lambda track: mrr(tracks, track)\n",
    "st_10_mrr = lambda track: shuffled_mrr(tracks[:10], track)\n",
    "st_100_mrr = lambda track: shuffled_mrr(tracks[:100], track)\n",
    "st_1000_mrr = lambda track: shuffled_mrr(tracks[:1000], track)\n",
    "\n",
    "metrics = data[(data[\"rnd\"] <= 0.5) & (data[\"time\"] >= 0.75)].copy()\n",
    "\n",
    "metrics[\"top10_mrr\"] = metrics[\"track\"].map(t_mrr)\n",
    "metrics[\"shuffledTop10_mrr\"] = metrics[\"track\"].map(st_10_mrr)\n",
    "metrics[\"shuffledTop100_mrr\"] = metrics[\"track\"].map(st_100_mrr)\n",
    "metrics[\"shuffledTop1000_mrr\"] = metrics[\"track\"].map(st_1000_mrr)\n",
    "\n",
    "metrics[[\"top10_mrr\", \"shuffledTop10_mrr\", \"shuffledTop100_mrr\", \"shuffledTop1000_mrr\"]].describe()"
   ]
  },
  {
   "cell_type": "markdown",
   "metadata": {},
   "source": [
    "## Export data for prod"
   ]
  },
  {
   "cell_type": "code",
   "execution_count": null,
   "metadata": {},
   "outputs": [],
   "source": [
    "with open(\"/Users/n.anokhin/Desktop/top_tracks.json\", \"w\") as top_tracks_file:\n",
    "    json.dump(track_popularity[\"track\"].tolist(), top_tracks_file)"
   ]
  },
  {
   "cell_type": "code",
   "execution_count": null,
   "metadata": {},
   "outputs": [],
   "source": []
  }
 ],
 "metadata": {
  "kernelspec": {
   "display_name": "Python 3 (ipykernel)",
   "language": "python",
   "name": "python3"
  },
  "language_info": {
   "codemirror_mode": {
    "name": "ipython",
    "version": 3
   },
   "file_extension": ".py",
   "mimetype": "text/x-python",
   "name": "python",
   "nbconvert_exporter": "python",
   "pygments_lexer": "ipython3",
   "version": "3.8.0"
  }
 },
 "nbformat": 4,
 "nbformat_minor": 4
}
