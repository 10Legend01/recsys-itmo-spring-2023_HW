{
 "cells": [
  {
   "cell_type": "code",
   "execution_count": null,
   "metadata": {
    "tags": []
   },
   "outputs": [],
   "source": [
    "import tqdm\n",
    "import json\n",
    "\n",
    "import pandas as pd\n",
    "import numpy as np\n",
    "\n",
    "from sklearn.metrics.pairwise import cosine_similarity"
   ]
  },
  {
   "cell_type": "markdown",
   "metadata": {},
   "source": [
    "## User-based Collaborative Filtering"
   ]
  },
  {
   "cell_type": "markdown",
   "metadata": {},
   "source": [
    "#### Основная идея: \n",
    "Рекомендовать пользователю треки, которые понравились похожим на него пользователям\n",
    "\n",
    "$$\\hat r_{ui} = h^{-1} \\left( \\frac{\\sum_{v \\in N_i(u)} w_{uv} h(r_{vi})}{\\sum_{v \\in N_i(u)} w_{uv}} \\right)$$\n",
    "\n",
    "$N_i(u)$ - соседи пользователя $u$, которые оценили айтем $i$,\n",
    "$w_{uv}, w_{ij}$ - веса соседей, \n",
    "$h$ - функция нормализации\n",
    "\n",
    "\n",
    "\n",
    "**Нормализация**: В качестве функции нормализации используем среднее время прослушивания\n",
    "\n",
    "**Веса**: Похожих пользователей будем искать по *cosine similarity*\n",
    "\n",
    "**Отсутствующие данные**: заполним средним времнем прослушивания по пользователю\n",
    "\n",
    "**Соседи**: в качестве соседей будем рассматривать всех пользователей. Q: Как это упростит формулу?"
   ]
  },
  {
   "cell_type": "code",
   "execution_count": null,
   "metadata": {
    "tags": []
   },
   "outputs": [],
   "source": [
    "BOTIFY_DATA_DIR = \"/Users/n.anokhin/Projects/recsys-course/botify/data/\"\n",
    "\n",
    "data = pd.read_json(\"/Users/n.anokhin/Desktop/input.json\", lines=True)[[\"user\", \"time\", \"track\"]].copy()\n",
    "\n",
    "data.head()"
   ]
  },
  {
   "cell_type": "code",
   "execution_count": null,
   "metadata": {
    "tags": []
   },
   "outputs": [],
   "source": [
    "data[\"normalized_time\"] = data.groupby(\"user\")[\"time\"].transform(lambda time: time - time.mean())\n",
    "\n",
    "data.head()"
   ]
  },
  {
   "cell_type": "code",
   "execution_count": null,
   "metadata": {
    "tags": []
   },
   "outputs": [],
   "source": [
    "interactions = pd.pivot_table(data, values=\"normalized_time\", index=\"user\", columns=\"track\").fillna(0)\n",
    "\n",
    "print(f\"Interactions matrix: shape={interactions.shape}, sparsity={(interactions != 0).values.sum() / interactions.size}\")"
   ]
  },
  {
   "cell_type": "code",
   "execution_count": null,
   "metadata": {
    "tags": []
   },
   "outputs": [],
   "source": [
    "similarity_matrix = cosine_similarity(interactions)\n",
    "np.fill_diagonal(similarity_matrix, 0)\n",
    "\n",
    "print(f\"Mean positive neighbours per user: {(similarity_matrix > 0).sum(axis=1).mean()}\")"
   ]
  },
  {
   "cell_type": "code",
   "execution_count": null,
   "metadata": {
    "tags": []
   },
   "outputs": [],
   "source": [
    "# TODO: Compute proper user-based scores\n",
    "# TODO: expected size: observed users x observed tracks\n",
    "scores_maxtrix = np.random.random(interactions.values.shape),\n",
    "\n",
    "scores = pd.DataFrame(\n",
    "    scores_matrix,\n",
    "    index=interactions.index,\n",
    "    columns=interactions.columns\n",
    ")\n",
    "\n",
    "scores[[1, 2, 3, 4, 5]].head()"
   ]
  },
  {
   "cell_type": "markdown",
   "metadata": {},
   "source": [
    "## Глянем на рекомендации"
   ]
  },
  {
   "cell_type": "code",
   "execution_count": null,
   "metadata": {
    "tags": []
   },
   "outputs": [],
   "source": [
    "products = pd.read_json(BOTIFY_DATA_DIR + \"tracks.json\", lines=True).set_index(\"track\")\n",
    "products.head()"
   ]
  },
  {
   "cell_type": "code",
   "execution_count": null,
   "metadata": {
    "tags": []
   },
   "outputs": [],
   "source": [
    "user = np.random.choice(scores.index)\n",
    "k = 10\n",
    "\n",
    "# data[data[\"user\"] == user]"
   ]
  },
  {
   "cell_type": "code",
   "execution_count": null,
   "metadata": {
    "tags": []
   },
   "outputs": [],
   "source": [
    "user_scores = pd.merge(\n",
    "    scores.loc[user].sort_values(ascending=False)[:k].to_frame(\"score\"),\n",
    "    products, \n",
    "    left_index=True, \n",
    "    right_index=True,\n",
    "    how=\"inner\"\n",
    ")\n",
    "\n",
    "user_scores"
   ]
  },
  {
   "cell_type": "code",
   "execution_count": null,
   "metadata": {
    "tags": []
   },
   "outputs": [],
   "source": [
    "user_interactions = pd.merge(\n",
    "    interactions.loc[user].sort_values(ascending=False).to_frame(\"time\"),\n",
    "    products, \n",
    "    left_index=True, \n",
    "    right_index=True, \n",
    "    how=\"inner\"\n",
    ")\n",
    "\n",
    "user_interactions[user_interactions[\"time\"] != 0]"
   ]
  },
  {
   "cell_type": "markdown",
   "metadata": {
    "tags": []
   },
   "source": [
    "## Подготавливаем рекомендации для продакшена"
   ]
  },
  {
   "cell_type": "code",
   "execution_count": null,
   "metadata": {
    "tags": []
   },
   "outputs": [],
   "source": [
    "def recommend(user_id, scores, k):\n",
    "    return scores.loc[user_id].sort_values(ascending=False)[:k].index.tolist()"
   ]
  },
  {
   "cell_type": "code",
   "execution_count": null,
   "metadata": {
    "tags": []
   },
   "outputs": [],
   "source": [
    "users = data[\"user\"].unique()\n",
    "\n",
    "with open(BOTIFY_DATA_DIR + \"recommendations_ub.json\", \"w\") as rf:\n",
    "    for user in tqdm.tqdm(users):\n",
    "        recommendation = {\n",
    "            \"user\": int(user),\n",
    "            \"tracks\": recommend(user, scores, 100)\n",
    "        }\n",
    "        rf.write(json.dumps(recommendation) + \"\\n\")"
   ]
  },
  {
   "cell_type": "code",
   "execution_count": null,
   "metadata": {
    "tags": []
   },
   "outputs": [],
   "source": []
  }
 ],
 "metadata": {
  "kernelspec": {
   "display_name": "Python 3 (ipykernel)",
   "language": "python",
   "name": "python3"
  },
  "language_info": {
   "codemirror_mode": {
    "name": "ipython",
    "version": 3
   },
   "file_extension": ".py",
   "mimetype": "text/x-python",
   "name": "python",
   "nbconvert_exporter": "python",
   "pygments_lexer": "ipython3",
   "version": "3.8.0"
  }
 },
 "nbformat": 4,
 "nbformat_minor": 4
}
